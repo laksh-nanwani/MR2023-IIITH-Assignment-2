{
 "cells": [
  {
   "cell_type": "markdown",
   "id": "fad18f80-e7cd-432e-8295-155c65285349",
   "metadata": {},
   "source": [
    "## ASSIGNMENT-2\n",
    "\n",
    "TEAM-NAME: \n",
    "\n",
    "IDs: \n",
    "\n",
    "NAMEs: "
   ]
  },
  {
   "cell_type": "markdown",
   "id": "bde0d52f-d78c-4975-9afb-b6da209573a5",
   "metadata": {},
   "source": [
    "### Instructions\n",
    " * Fill in the team name, id and names of all the teams members in the cell above.\n",
    " * Code must be written in Python in Jupyter Notebooks. We highly recommend using anaconda distribution or at the minimum, virtual environments for this assignment.\n",
    " * All the code and result files should be uploaded in the github classroom.\n",
    " * You can use the in-built methods and **unless explicitly mentioned**, don't need to code from scratch for this assignment. Make sure your code is modular since you will be reusing them for future assignments.\n",
    " * All the representations are expected to be in a right-hand coordinate system. All the functions related to transformation matrices, quaternions, and 3D projection are expected to be coded by you.\n",
    " * You could split the Jupyter Notebook cells where TODO is written, but please try to avoid splitting/changing the structure of other cells.\n",
    " * All the visualization should be done inside the notebook unless specified otherwise.\n",
    " * Plagiarism will lead to heavy penalty.\n",
    " * Commit this notebook in the GitHub Classroom repo and any other results files under the result folder. \n",
    " * Commits past the deadline will not be considered.\n",
    " * Extensions will be granted using the extension policy only, so please go through the policy carefully and reach out to the TAs beforehand."
   ]
  },
  {
   "cell_type": "code",
   "execution_count": 1,
   "id": "bb81becc-8b02-4d21-a327-3690809894cd",
   "metadata": {},
   "outputs": [],
   "source": [
    "# List the imports here"
   ]
  },
  {
   "cell_type": "markdown",
   "id": "2d819892-cc75-4751-a471-4211c353ca02",
   "metadata": {
    "tags": []
   },
   "source": [
    "### SECTION 1: Non-Linear least squares optimization for Gaussian function"
   ]
  },
  {
   "cell_type": "markdown",
   "id": "a415c1d7-d32d-4a71-8f3d-a17bfe2760d7",
   "metadata": {
    "tags": []
   },
   "source": [
    "#### 1.1 Levenberg Marquardt"
   ]
  },
  {
   "cell_type": "markdown",
   "id": "a73372c9-aa97-4180-bd40-d25fbc8895a2",
   "metadata": {},
   "source": [
    "Implement the Levenberg Marquardt algorithm from scratch using numpy to solve for the parameters of a gaussian distribution.\n",
    "\n",
    "A Gaussian distribution parametrized by $a,m,s$ is given by:\n",
    "\n",
    "$$ y(x;a,m,s)=a \\exp \\left(\\frac{-(x-m)^{2}}{2 s^{2}}\\right) \\tag{1}$$\n",
    "\n",
    "##### Problem to solve\n",
    "\n",
    "> Given a set of observations $y_{obs}$ and $x_{obs}$ we want to find the optimum parameters $a,m,s$ which best fit our observations given an initial estimate.\n",
    "\n",
    "* Experiment with the number of iterations.\n",
    "* Experiment with the learning rate.\n",
    "* Experiment with the tolerance.\n",
    "\n",
    "Display your results using matplotlib by plotting graphs for \n",
    "* The cost function value ($\\|r\\|^2$) vs the number of iterations\n",
    "* The Ground Truth data values and the predicted data values.\n",
    "\n",
    "Experiment with the hyperparameters and compile your observations in a table. Clearly mention your hyperparameters with justification.\n",
    "\n",
    "You can refer to [Shubodh's notes](https://www.notion.so/saishubodh/From-linear-algebra-to-non-linear-weighted-least-squares-optimization-13cf17d318be4d45bb8577c4d3ea4a02) on the same to get a better grasp of the concept before implementing it."
   ]
  },
  {
   "cell_type": "code",
   "execution_count": 6,
   "id": "a71d434f-4483-4edd-88d2-6dda431d1e7c",
   "metadata": {},
   "outputs": [],
   "source": [
    "##############################################################################\n",
    "# TODO: Do tasks described in 1.1 (a)\n",
    "##############################################################################\n",
    "\n",
    "# Replace \"pass\" statement with your code\n",
    "pass\n",
    "\n",
    "##############################################################################\n",
    "# END OF YOUR CODE\n",
    "##############################################################################"
   ]
  },
  {
   "cell_type": "markdown",
   "id": "f12f5080-93de-44d5-8eda-03d73c269a85",
   "metadata": {
    "tags": []
   },
   "source": [
    "### SECTION 2: ICP"
   ]
  },
  {
   "cell_type": "markdown",
   "id": "3ac657f9-24da-49d4-ae74-d14cc17f1531",
   "metadata": {},
   "source": [
    "#### 2.1 Perform Procrustes alignmenton two point clouds with (given) known correspondences. "
   ]
  },
  {
   "cell_type": "markdown",
   "id": "a9d6126a-0eb5-4239-94ee-0f0bd35dfa19",
   "metadata": {},
   "source": [
    "Let X be your point cloud observed from the initial pose P1. You then transform it to a new pose P2. Now you wish to apply ICP to recover transformation between (X & P1) and (X & P2). \n",
    "\n",
    "Use toothless.ply point cloud and perform the alignment between the two point clouds using procrustes alignment. Your task is to write a function that takes two point clouds as input wherein the corresponding points between the two point clouds are located at the same index and returns the transformation matrix between them. Compute the alignment error after aligning the two point clouds.\n",
    "\n",
    "**Use *root mean squared error (RSME)* as the alignment error metric.**\n",
    "\n",
    "Make sure your code is modular as we will use this function in the next sub-part."
   ]
  },
  {
   "cell_type": "code",
   "execution_count": 10,
   "id": "ef84e597-736f-4b0a-920a-71355882ea5b",
   "metadata": {},
   "outputs": [],
   "source": [
    "##############################################################################\n",
    "# TODO: Do tasks described in 2.1\n",
    "##############################################################################\n",
    "\n",
    "# Replace \"pass\" statement with your code\n",
    "pass\n",
    "\n",
    "##############################################################################\n",
    "# END OF YOUR CODE\n",
    "##############################################################################"
   ]
  },
  {
   "cell_type": "markdown",
   "id": "2a692e38-f27b-4118-be65-ba4bed664163",
   "metadata": {},
   "source": [
    "#### 2.2 Implement ICP algorithm with unknown correspondences."
   ]
  },
  {
   "cell_type": "markdown",
   "id": "f5f39385-f202-4433-bd62-bc52ebc1ac8d",
   "metadata": {},
   "source": [
    "Your task is to write a function that implements ICP and takes two point clouds as input wherein the correspondances are unknown. Visualize the pointclouds and plot their individual coordinate frames as you perform ICP over them. Compute the alignment error in each iteration."
   ]
  },
  {
   "cell_type": "code",
   "execution_count": null,
   "id": "3ac6145a-7090-4f7e-aa2a-10b33061f0ea",
   "metadata": {},
   "outputs": [],
   "source": [
    "##############################################################################\n",
    "# TODO: Do tasks described in 2.2\n",
    "##############################################################################\n",
    "\n",
    "# Replace \"pass\" statement with your code\n",
    "pass\n",
    "\n",
    "##############################################################################\n",
    "# END OF YOUR CODE"
   ]
  }
 ],
 "metadata": {
  "kernelspec": {
   "display_name": "Python 3 (ipykernel)",
   "language": "python",
   "name": "python3"
  },
  "language_info": {
   "codemirror_mode": {
    "name": "ipython",
    "version": 3
   },
   "file_extension": ".py",
   "mimetype": "text/x-python",
   "name": "python",
   "nbconvert_exporter": "python",
   "pygments_lexer": "ipython3",
   "version": "3.8.10"
  }
 },
 "nbformat": 4,
 "nbformat_minor": 5
}
